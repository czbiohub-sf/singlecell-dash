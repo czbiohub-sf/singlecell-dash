{
 "cells": [
  {
   "cell_type": "markdown",
   "metadata": {},
   "source": [
    "## Notebook Setup"
   ]
  },
  {
   "cell_type": "code",
   "execution_count": null,
   "metadata": {},
   "outputs": [],
   "source": [
    "import os\n",
    "import csv\n",
    "\n",
    "import numpy as np\n",
    "import pandas as pd\n",
    "\n",
    "import singlecell_dash.common as common\n",
    "\n",
    "from tissue_analysis import *\n",
    "from singlecell_dash.network_util import plot_clustering"
   ]
  },
  {
   "cell_type": "markdown",
   "metadata": {},
   "source": [
    "## Load data"
   ]
  },
  {
   "cell_type": "code",
   "execution_count": null,
   "metadata": {
    "collapsed": true
   },
   "outputs": [],
   "source": [
    "# data folder (change to match your local environment)\n",
    "data_folder = '../maca-dash/data/'"
   ]
  },
  {
   "cell_type": "code",
   "execution_count": null,
   "metadata": {},
   "outputs": [],
   "source": [
    "tenx,exp_df,knn_cache = load_tissue(data_folder, 'Liver')"
   ]
  },
  {
   "cell_type": "markdown",
   "metadata": {},
   "source": [
    "## Clustering and layout"
   ]
  },
  {
   "cell_type": "code",
   "execution_count": null,
   "metadata": {},
   "outputs": [],
   "source": [
    "coords, Z = cluster_tissue(exp_df, knn_cache, 25)"
   ]
  },
  {
   "cell_type": "code",
   "execution_count": null,
   "metadata": {},
   "outputs": [],
   "source": [
    "# plot and color by cluster\n",
    "plot_clustering(coords, Z, color_by=coords['cluster'])"
   ]
  },
  {
   "cell_type": "code",
   "execution_count": null,
   "metadata": {},
   "outputs": [],
   "source": [
    "# plot and color by a gene\n",
    "plot_clustering(exp.join(coords), Z, color_by=np.log2(exp['Cyp2c69'] + 1))"
   ]
  },
  {
   "cell_type": "code",
   "execution_count": null,
   "metadata": {},
   "outputs": [],
   "source": [
    "# calculate all differential expressions across the tree\n",
    "de_dict = diff_exp_clusters(Z, exp, coords['cluster'], verbose=True)\n",
    "\n",
    "# printing out all the calculate comparisons\n",
    "print('\\n\\nComparison keys:')\n",
    "print(de_dict.keys())\n"
   ]
  },
  {
   "cell_type": "markdown",
   "metadata": {},
   "source": [
    "## Make a joyplot"
   ]
  },
  {
   "cell_type": "code",
   "execution_count": null,
   "metadata": {},
   "outputs": [],
   "source": [
    "plot_gene_joyplot(exp_df, coords, 'Actb', Z)"
   ]
  },
  {
   "cell_type": "markdown",
   "metadata": {},
   "source": [
    "## Subset and Re-analyze"
   ]
  },
  {
   "cell_type": "code",
   "execution_count": null,
   "metadata": {},
   "outputs": [],
   "source": [
    "# define filters as dictionary of column_name: [list of values]\n",
    "filters = {'Sex': ['M']}\n",
    "# subset the expression and knn_cache given the filters\n",
    "exp_subset,knn_subset = subset_exp(tenx, exp, filters, knn_cache)\n",
    "print('expression subset: ', exp_subset.shape)\n",
    "print(knn_subset)"
   ]
  },
  {
   "cell_type": "code",
   "execution_count": null,
   "metadata": {},
   "outputs": [],
   "source": [
    "# try a new k\n",
    "subset_coords, subset_Z = cluster_tissue(exp_subset, knn_subset, 50)\n",
    "plot_clustering(subset_coords, subset_Z, color_by=subset_coords['cluster'])"
   ]
  },
  {
   "cell_type": "code",
   "execution_count": null,
   "metadata": {
    "collapsed": true
   },
   "outputs": [],
   "source": [
    "# make a new joyplot\n",
    "plot_gene_joyplot(exp_subset, subset_coords, 'Actb', subset_Z)"
   ]
  }
 ],
 "metadata": {
  "kernelspec": {
   "display_name": "Python3 (maca-dash)",
   "language": "python",
   "name": "maca-dash"
  },
  "language_info": {
   "codemirror_mode": {
    "name": "ipython",
    "version": 3
   },
   "file_extension": ".py",
   "mimetype": "text/x-python",
   "name": "python",
   "nbconvert_exporter": "python",
   "pygments_lexer": "ipython3",
   "version": "3.6.2"
  }
 },
 "nbformat": 4,
 "nbformat_minor": 2
}
