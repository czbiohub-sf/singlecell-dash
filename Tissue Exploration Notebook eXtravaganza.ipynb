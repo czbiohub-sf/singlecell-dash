{
 "cells": [
  {
   "cell_type": "markdown",
   "metadata": {},
   "source": [
    "## Notebook Setup"
   ]
  },
  {
   "cell_type": "code",
   "execution_count": null,
   "metadata": {
    "collapsed": true
   },
   "outputs": [],
   "source": [
    "%matplotlib inline\n",
    "%load_ext autoreload\n",
    "%autoreload 2"
   ]
  },
  {
   "cell_type": "code",
   "execution_count": null,
   "metadata": {},
   "outputs": [],
   "source": [
    "import os\n",
    "import csv\n",
    "\n",
    "import singlecell_dash.common as common\n",
    "import singlecell_dash.network_util as nutil\n",
    "\n",
    "import numpy as np\n",
    "import pandas as pd\n",
    "import hermione as hm\n",
    "import seaborn as sns\n",
    "sns.set(style=\"white\", rc={\"axes.facecolor\": (0, 0, 0, 0)})\n",
    "\n",
    "from tissue_analysis import diff_exp_clusters\n",
    "\n",
    "import scipy.cluster.hierarchy as sch"
   ]
  },
  {
   "cell_type": "code",
   "execution_count": null,
   "metadata": {
    "collapsed": true
   },
   "outputs": [],
   "source": [
    "# constants (reset for local environment)\n",
    "\n",
    "DATA_FOLDER = '../maca-dash/data/'"
   ]
  },
  {
   "cell_type": "code",
   "execution_count": null,
   "metadata": {},
   "outputs": [],
   "source": [
    "# load in data with appropriate subsets\n",
    "tenx = common.TenX_Runs(DATA_FOLDER, \n",
    "                        filters={'Age': [3], 'Tissue': ['Liver']},\n",
    "                        verbose=True)\n",
    "exp = pd.DataFrame(tenx.genes.matrix.todense(), \n",
    "                   index=tenx.genes.rows, \n",
    "                   columns=tenx.genes.columns)\n",
    "\n",
    "# name the file based on your filters\n",
    "knn_cache_file = os.path.join(DATA_FOLDER, 'coords', 'descriptive_file_name.npy')\n",
    "if not os.path.exists(os.path.dirname(knn_cache_file)):\n",
    "    os.mkdir(os.path.dirname(knn_cache_file))"
   ]
  },
  {
   "cell_type": "code",
   "execution_count": null,
   "metadata": {},
   "outputs": [],
   "source": [
    "# run this to create a knn cache\n",
    "knn_cache = nutil.KNNCache(tenx.genes.matrix, max_k=200)\n",
    "np.save(knn_cache_file, knn_cache.knn_array)"
   ]
  },
  {
   "cell_type": "code",
   "execution_count": null,
   "metadata": {
    "collapsed": true
   },
   "outputs": [],
   "source": [
    "# ... or run this if you saved it and want to reload\n",
    "knn_cache = nutil.KNNCache(knn_cache_file)"
   ]
  },
  {
   "cell_type": "markdown",
   "metadata": {},
   "source": [
    "## Clustering and layout"
   ]
  },
  {
   "cell_type": "code",
   "execution_count": null,
   "metadata": {
    "collapsed": true
   },
   "outputs": [],
   "source": [
    "knn_graph = knn_cache.get_knn_graph(k=25) # change k here\n",
    "\n",
    "coords = nutil.network_layout(tenx.genes.rows, knn_graph)\n",
    "coords['cluster'], Z = nutil.label_propagation(exp, knn_graph)"
   ]
  },
  {
   "cell_type": "code",
   "execution_count": null,
   "metadata": {},
   "outputs": [],
   "source": [
    "# plot and color by cluster\n",
    "nutil.plot_labelprop(coords, Z, color_by=coords['cluster'])"
   ]
  },
  {
   "cell_type": "code",
   "execution_count": null,
   "metadata": {},
   "outputs": [],
   "source": [
    "# plot and color by a gene\n",
    "nutil.plot_labelprop(exp.join(coords), Z, color_by=np.log2(exp['Apoa2'] + 1))"
   ]
  },
  {
   "cell_type": "code",
   "execution_count": null,
   "metadata": {},
   "outputs": [],
   "source": [
    "# calculate all differential expressions across the tree\n",
    "de_dict = diff_exp_clusters(Z, exp, coords['cluster'])\n",
    "print(de_dict.keys())\n",
    "de_dict[42,'all']"
   ]
  },
  {
   "cell_type": "markdown",
   "metadata": {},
   "source": [
    "### More Subsetting"
   ]
  },
  {
   "cell_type": "code",
   "execution_count": null,
   "metadata": {},
   "outputs": [],
   "source": [
    "# subset the knn_cache further\n",
    "exp_subset = exp.loc[tenx.cell_metadata['Sex'] == 'M']\n",
    "\n",
    "# subset using integer index only\n",
    "knnc = knn_cache.subset_cache(np.where(exp_subset)[0])\n",
    "print(knnc) # will automatically determine new max k\n",
    "\n",
    "subset_graph = knnc.get_knn_graph(k=50)\n",
    "subset_coords = nutil.network_layout(exp_subset, subset_graph)\n",
    "subset_coords['cluster'], subset_Z = nutil.label_propagation(exp_subset, subset_graph)\n",
    "\n",
    "nutil.plot_labelprop(subset_coords, subset_Z)"
   ]
  },
  {
   "cell_type": "code",
   "execution_count": null,
   "metadata": {},
   "outputs": [],
   "source": [
    "# joyplots\n",
    "hm.joyplot(np.log2(exp + 1).join(coords), 'Actb', 'cluster', sch.leaves_list(Z))\n",
    "plt.show()"
   ]
  },
  {
   "cell_type": "code",
   "execution_count": null,
   "metadata": {
    "collapsed": true
   },
   "outputs": [],
   "source": []
  }
 ],
 "metadata": {
  "kernelspec": {
   "display_name": "Python3 (maca-dash)",
   "language": "python",
   "name": "maca-dash"
  },
  "language_info": {
   "codemirror_mode": {
    "name": "ipython",
    "version": 3
   },
   "file_extension": ".py",
   "mimetype": "text/x-python",
   "name": "python",
   "nbconvert_exporter": "python",
   "pygments_lexer": "ipython3",
   "version": "3.6.2"
  }
 },
 "nbformat": 4,
 "nbformat_minor": 2
}
