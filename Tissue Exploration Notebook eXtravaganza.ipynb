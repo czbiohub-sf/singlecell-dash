{
 "cells": [
  {
   "cell_type": "markdown",
   "metadata": {},
   "source": [
    "## Notebook Setup"
   ]
  },
  {
   "cell_type": "code",
   "execution_count": null,
   "metadata": {},
   "outputs": [],
   "source": [
    "%matplotlib inline\n",
    "%load_ext autoreload\n",
    "%autoreload 2\n",
    "\n",
    "import os\n",
    "import csv\n",
    "\n",
    "import singlecell_dash.common as common\n",
    "import singlecell_dash.network_util as nutil\n",
    "\n",
    "import pandas as pd\n",
    "import hermione as hm\n",
    "\n",
    "import tissue_analysis\n",
    "\n",
    "import scipy.cluster.hierarchy as sch"
   ]
  },
  {
   "cell_type": "code",
   "execution_count": null,
   "metadata": {
    "collapsed": true
   },
   "outputs": [],
   "source": [
    "# constants (reset for local environment)\n",
    "\n",
    "DATA_FOLDER = '../maca-dash/data/'"
   ]
  },
  {
   "cell_type": "code",
   "execution_count": null,
   "metadata": {},
   "outputs": [],
   "source": [
    "# load in data with appropriate subsets\n",
    "tenx = common.TenX_Runs('../maca-dash/data/', \n",
    "                        filters={'Age': [3], 'Sex': ['F'], 'Tissue': ['Liver']},\n",
    "                        verbose=True)\n",
    "exp = pd.DataFrame(tenx.genes.matrix.todense(), \n",
    "                   index=tenx.genes.rows, \n",
    "                   columns=tenx.genes.columns)\n",
    "# name the file based on your filters\n",
    "knn_cache_file = os.path.join(DATA_FOLDER, 'coords', 'descriptive_file_name.npy')"
   ]
  },
  {
   "cell_type": "code",
   "execution_count": null,
   "metadata": {},
   "outputs": [],
   "source": [
    "# run this to create a knn cache\n",
    "knn_cache = network_stuff.KNNCache(tenx.genes.matrix, k=200)\n",
    "np.save(knn_cache_file, knn_cache.knn_array)"
   ]
  },
  {
   "cell_type": "code",
   "execution_count": null,
   "metadata": {},
   "outputs": [],
   "source": [
    "# ... or run this if you saved it and want to reload\n",
    "knn_cache = nutil.KNNCache(knn_cache_file)"
   ]
  },
  {
   "cell_type": "markdown",
   "metadata": {},
   "source": [
    "## Clustering and layout"
   ]
  },
  {
   "cell_type": "code",
   "execution_count": null,
   "metadata": {},
   "outputs": [],
   "source": [
    "knn_graph = knn_cache.get_knn_graph(k=25) # change k here\n",
    "\n",
    "coords = nutil.network_layout(tenx.genes.rows, knn_graph)\n",
    "coords['cluster'], Z = nutil.label_propagation(exp, knn_graph)\n",
    "\n",
    "nutil.plot_labelprop(coords, Z)"
   ]
  },
  {
   "cell_type": "code",
   "execution_count": null,
   "metadata": {
    "collapsed": true
   },
   "outputs": [],
   "source": []
  }
 ],
 "metadata": {
  "kernelspec": {
   "display_name": "Python3 (maca-dash)",
   "language": "python",
   "name": "maca-dash"
  },
  "language_info": {
   "codemirror_mode": {
    "name": "ipython",
    "version": 3
   },
   "file_extension": ".py",
   "mimetype": "text/x-python",
   "name": "python",
   "nbconvert_exporter": "python",
   "pygments_lexer": "ipython3",
   "version": "3.6.2"
  }
 },
 "nbformat": 4,
 "nbformat_minor": 2
}
