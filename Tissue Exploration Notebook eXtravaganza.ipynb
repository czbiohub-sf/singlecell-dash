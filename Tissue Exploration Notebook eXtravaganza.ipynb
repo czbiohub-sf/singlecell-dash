{
 "cells": [
  {
   "cell_type": "markdown",
   "metadata": {},
   "source": [
    "## Notebook Setup"
   ]
  },
  {
   "cell_type": "code",
   "execution_count": 1,
   "metadata": {
    "collapsed": true
   },
   "outputs": [],
   "source": [
    "import os, glob\n",
    "\n",
    "import numpy as np\n",
    "import pandas as pd\n",
    "\n",
    "import singlecell_dash.common as common\n",
    "\n",
    "import seaborn as sns\n",
    "\n",
    "from tissue_analysis import *\n",
    "from singlecell_dash.network_util import plot_clustering\n",
    "import singlecell_dash.network_util as nutil"
   ]
  },
  {
   "cell_type": "code",
   "execution_count": 2,
   "metadata": {
    "collapsed": true
   },
   "outputs": [],
   "source": [
    "%matplotlib inline"
   ]
  },
  {
   "cell_type": "markdown",
   "metadata": {},
   "source": [
    "## Load data"
   ]
  },
  {
   "cell_type": "code",
   "execution_count": 3,
   "metadata": {
    "collapsed": true
   },
   "outputs": [],
   "source": [
    "# data folder (change to match your local environment)\n",
    "data_folder = '/data1/maca_deployment'"
   ]
  },
  {
   "cell_type": "code",
   "execution_count": 4,
   "metadata": {
    "collapsed": true
   },
   "outputs": [],
   "source": [
    "tissue = 'Bladder'"
   ]
  },
  {
   "cell_type": "code",
   "execution_count": 5,
   "metadata": {},
   "outputs": [
    {
     "name": "stdout",
     "output_type": "stream",
     "text": [
      "Reading /data1/maca_deployment/10x_data/10X_P4_3/10X_P4_3.mus.cell-gene.npz ...\n",
      "Reading /data1/maca_deployment/10x_data/10X_P4_4/10X_P4_4.mus.cell-gene.npz ...\n",
      "Reading /data1/maca_deployment/10x_data/10X_P6_3/10X_P6_3.mus.cell-gene.npz ...\n",
      "Reading /data1/maca_deployment/10x_data/10X_P6_4/10X_P6_4.mus.cell-gene.npz ...\n",
      "Reading /data1/maca_deployment/10x_data/10X_P7_7/10X_P7_7.mus.cell-gene.npz ...\n"
     ]
    }
   ],
   "source": [
    "tenx,exp,knn_cache = load_tissue(data_folder, tissue)"
   ]
  },
  {
   "cell_type": "code",
   "execution_count": null,
   "metadata": {},
   "outputs": [],
   "source": [
    "# If old cache is bogus\n",
    "knn_cache = nutil.KNNCache(tenx.genes.matrix, max_k=500)"
   ]
  },
  {
   "cell_type": "markdown",
   "metadata": {},
   "source": [
    "## Clustering and layout"
   ]
  },
  {
   "cell_type": "code",
   "execution_count": null,
   "metadata": {},
   "outputs": [],
   "source": [
    "coords, Z = cluster_tissue(exp, knn_cache, 25)"
   ]
  },
  {
   "cell_type": "code",
   "execution_count": null,
   "metadata": {},
   "outputs": [],
   "source": [
    "# plot and color by cluster\n",
    "plot_clustering(coords, Z, color_by=coords['cluster'], discrete_data=True)"
   ]
  },
  {
   "cell_type": "code",
   "execution_count": null,
   "metadata": {},
   "outputs": [],
   "source": [
    "# plot and color by a gene\n",
    "plot_clustering(exp.join(coords), Z, color_by=np.log2(exp['Krt19'] + 1), discrete_data=False)"
   ]
  },
  {
   "cell_type": "code",
   "execution_count": null,
   "metadata": {},
   "outputs": [],
   "source": [
    "# calculate all differential expressions across the tree\n",
    "de_dict = diff_exp_clusters(Z, exp, coords['cluster'], verbose=False)\n",
    "\n",
    "# printing out all the calculate comparisons\n",
    "print('\\n\\nComparison keys:')\n",
    "print(de_dict.keys())"
   ]
  },
  {
   "cell_type": "markdown",
   "metadata": {},
   "source": [
    "## Make a joyplot"
   ]
  },
  {
   "cell_type": "code",
   "execution_count": null,
   "metadata": {},
   "outputs": [],
   "source": [
    "plot_gene_joyplot(exp, coords, 'Krt19', Z)"
   ]
  },
  {
   "cell_type": "markdown",
   "metadata": {},
   "source": [
    "## Compare Clusterings"
   ]
  },
  {
   "cell_type": "code",
   "execution_count": null,
   "metadata": {},
   "outputs": [],
   "source": [
    "# Load annotations\n",
    "annotations = pd.DataFrame(index=exp.index)\n",
    "for fn in glob.glob(data_folder + '/annotations/' + tissue + '/*'):\n",
    "    print(fn)\n",
    "    annos = pd.read_csv(fn, index_col=0)\n",
    "    prefix = os.path.basename(fn).split('.')[0]\n",
    "    annos.columns = [prefix + '_' + name for name in annos.columns]\n",
    "    annotations = annotations.join(annos)"
   ]
  },
  {
   "cell_type": "code",
   "execution_count": null,
   "metadata": {},
   "outputs": [],
   "source": [
    "annotations.head()"
   ]
  },
  {
   "cell_type": "code",
   "execution_count": null,
   "metadata": {},
   "outputs": [],
   "source": [
    "ax = sns.heatmap(np.log10(pd.crosstab(annotations['10x-release-smushed_cluster'], coords['cluster'])+1))"
   ]
  },
  {
   "cell_type": "markdown",
   "metadata": {},
   "source": [
    "## Subset and Re-analyze"
   ]
  },
  {
   "cell_type": "code",
   "execution_count": null,
   "metadata": {},
   "outputs": [],
   "source": [
    "# define filters as dictionary of column_name: [list of values]\n",
    "filters = {'Sex': ['F']}\n",
    "# subset the expression and knn_cache given the filters\n",
    "exp_subset,knn_subset = subset_exp(tenx, exp, filters, knn_cache=knn_cache)\n",
    "print('expression subset: ', exp_subset.shape)\n",
    "print(knn_subset)"
   ]
  },
  {
   "cell_type": "code",
   "execution_count": null,
   "metadata": {},
   "outputs": [],
   "source": [
    "# try a new k\n",
    "subset_coords, subset_Z = cluster_tissue(exp_subset, knn_subset, 10)\n",
    "plot_clustering(subset_coords, subset_Z, color_by=subset_coords['cluster'])"
   ]
  },
  {
   "cell_type": "code",
   "execution_count": null,
   "metadata": {},
   "outputs": [],
   "source": [
    "gene = 'Krt19'\n",
    "plot_clustering(subset_coords, subset_Z, color_by=np.log2(exp_subset[gene] + 1), discrete_data=False)"
   ]
  },
  {
   "cell_type": "code",
   "execution_count": null,
   "metadata": {},
   "outputs": [],
   "source": [
    "# make a new joyplot\n",
    "gene = 'Krt19'\n",
    "plot_gene_joyplot(exp_subset, subset_coords, gene, subset_Z)"
   ]
  },
  {
   "cell_type": "code",
   "execution_count": null,
   "metadata": {},
   "outputs": [],
   "source": [
    "# define filters as dictionary of column_name: [list of values]\n",
    "samples = annotations.index[annotations['10x-release-smushed_cluster'] == 1]\n",
    "# subset the expression and knn_cache given the filters\n",
    "exp_subset,knn_subset = subset_exp(tenx, exp, samples=samples, knn_cache=knn_cache)\n",
    "print('expression subset: ', exp_subset.shape)\n",
    "print(knn_subset)"
   ]
  },
  {
   "cell_type": "code",
   "execution_count": null,
   "metadata": {},
   "outputs": [],
   "source": [
    "# try a new k\n",
    "subset_coords, subset_Z = cluster_tissue(exp_subset, knn_subset, 20)\n",
    "plot_clustering(subset_coords, subset_Z, color_by=subset_coords['cluster'])"
   ]
  },
  {
   "cell_type": "code",
   "execution_count": null,
   "metadata": {},
   "outputs": [],
   "source": [
    "# calculate all differential expressions across the tree\n",
    "de_dict = diff_exp_clusters(subset_Z, exp_subset, subset_coords['cluster'], verbose=False)\n",
    "\n",
    "# printing out all the calculate comparisons\n",
    "print('\\n\\nComparison keys:')\n",
    "print(de_dict.keys())"
   ]
  }
 ],
 "metadata": {
  "kernelspec": {
   "display_name": "Python 3",
   "language": "python",
   "name": "python3"
  },
  "language_info": {
   "codemirror_mode": {
    "name": "ipython",
    "version": 3
   },
   "file_extension": ".py",
   "mimetype": "text/x-python",
   "name": "python",
   "nbconvert_exporter": "python",
   "pygments_lexer": "ipython3",
   "version": "3.6.2"
  }
 },
 "nbformat": 4,
 "nbformat_minor": 2
}
